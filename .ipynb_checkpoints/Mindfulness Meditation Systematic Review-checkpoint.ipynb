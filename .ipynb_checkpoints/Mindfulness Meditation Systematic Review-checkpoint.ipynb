{
 "cells": [
  {
   "cell_type": "code",
   "execution_count": 15,
   "metadata": {},
   "outputs": [],
   "source": [
    "#importing all the libraries I will need\n",
    "import urllib.request, urllib.parse, urllib.error\n",
    "from bs4 import BeautifulSoup\n",
    "import ssl\n",
    "import requests\n",
    "import csv\n",
    "\n",
    "# Ignore SSL certificate errors\n",
    "ctx = ssl.create_default_context()\n",
    "ctx.check_hostname = False\n",
    "ctx.verify_mode = ssl.CERT_NONE\n",
    "\n",
    "#User agent to get past bot filter\n",
    "headers = {'User-Agent': 'Mozilla/5.0 (Macintosh; Intel Mac OS X 10_13_6) AppleWebKit/537.36 (KHTML, like Gecko) Chrome/70.0.3538.77 Safari/537.36'}"
   ]
  },
  {
   "cell_type": "code",
   "execution_count": 21,
   "metadata": {},
   "outputs": [
    {
     "name": "stdout",
     "output_type": "stream",
     "text": [
      "[]\n"
     ]
    }
   ],
   "source": [
    "meditation_links = []     \n",
    "\n",
    "url = 'https://insighttimer.com/meditation-topics/mindfulnessmeditation/browse/guided'\n",
    "    \n",
    "page = requests.get(url, headers = headers)                                                 \n",
    "soup = BeautifulSoup(page.content, \"html.parser\")               \n",
    "container = soup.find_all('div', class_ = \"css-1bpbsig\")   \n",
    "print(container)                                                              \n"
   ]
  },
  {
   "cell_type": "markdown",
   "metadata": {},
   "source": [
    "I tried scraping all of these tags:\n",
    "\n",
    "'div', class_ = \"css-1bpbsig\"      # the one I really want\n",
    "\n",
    "'div', class_ = 'tile_background_image'\n",
    "\n",
    "'a', class_ = 'MuiButtonBase-root MuiButton-root MuiButton-text tile_background_image css-xyr5cw'\n",
    "\n",
    "'div', class_ = \"MuiGrid-root css-203yip MuiGrid-item\"\n",
    "\n",
    "'div', class_ = 'css-1p4bksc'"
   ]
  }
 ],
 "metadata": {
  "kernelspec": {
   "display_name": "Python 3 (ipykernel)",
   "language": "python",
   "name": "python3"
  },
  "language_info": {
   "codemirror_mode": {
    "name": "ipython",
    "version": 3
   },
   "file_extension": ".py",
   "mimetype": "text/x-python",
   "name": "python",
   "nbconvert_exporter": "python",
   "pygments_lexer": "ipython3",
   "version": "3.8.12"
  }
 },
 "nbformat": 4,
 "nbformat_minor": 2
}

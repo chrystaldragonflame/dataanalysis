{
 "cells": [
  {
   "cell_type": "markdown",
   "id": "797dfbc5",
   "metadata": {},
   "source": [
    "This project was aided heavily by the online version of Case Studies in Neural Data Analysis, by Mark Kramer and Uri Eden. Here is a link to the repository: https://mark-kramer.github.io/Case-Studies-Python/intro.html. I used their example data to analyze here."
   ]
  },
  {
   "cell_type": "code",
   "execution_count": null,
   "id": "d8bfd00a",
   "metadata": {},
   "outputs": [],
   "source": []
  }
 ],
 "metadata": {
  "kernelspec": {
   "display_name": "Python 3 (ipykernel)",
   "language": "python",
   "name": "python3"
  },
  "language_info": {
   "codemirror_mode": {
    "name": "ipython",
    "version": 3
   },
   "file_extension": ".py",
   "mimetype": "text/x-python",
   "name": "python",
   "nbconvert_exporter": "python",
   "pygments_lexer": "ipython3",
   "version": "3.8.12"
  }
 },
 "nbformat": 4,
 "nbformat_minor": 5
}
